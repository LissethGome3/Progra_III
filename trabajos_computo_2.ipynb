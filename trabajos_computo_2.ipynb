{
  "nbformat": 4,
  "nbformat_minor": 0,
  "metadata": {
    "colab": {
      "name": "trabajos computo 2",
      "provenance": [],
      "collapsed_sections": [],
      "authorship_tag": "ABX9TyO+0E6YsfyzjVT/voDd21Wd",
      "include_colab_link": true
    },
    "kernelspec": {
      "display_name": "Python 3",
      "name": "python3"
    },
    "language_info": {
      "name": "python"
    }
  },
  "cells": [
    {
      "cell_type": "markdown",
      "metadata": {
        "id": "view-in-github",
        "colab_type": "text"
      },
      "source": [
        "<a href=\"https://colab.research.google.com/github/LissethGome3/Progra_III/blob/main/trabajos_computo_2.ipynb\" target=\"_parent\"><img src=\"https://colab.research.google.com/assets/colab-badge.svg\" alt=\"Open In Colab\"/></a>"
      ]
    },
    {
      "cell_type": "markdown",
      "metadata": {
        "id": "iAQJByjQBoIT"
      },
      "source": [
        "1. Convertir de Celsius de Fahrenheit"
      ]
    },
    {
      "cell_type": "code",
      "metadata": {
        "colab": {
          "base_uri": "https://localhost:8080/"
        },
        "id": "uaBPZeWcBp-7",
        "outputId": "961cfe9f-8e46-4ddf-d081-8d06605ecacb"
      },
      "source": [
        "def convertirCF(C):\n",
        "  C = (C * 9/5) + 32 \n",
        "  return C\n",
        "\n",
        "C = float(input(\"C: \"))\n",
        "print(\"C: \", str(C), \" a Fahrenheit: \", str( convertirCF(C) ))"
      ],
      "execution_count": null,
      "outputs": [
        {
          "name": "stdout",
          "output_type": "stream",
          "text": [
            "C: 25\n",
            "C:  25.0  a Fahrenheit:  77.0\n"
          ]
        }
      ]
    },
    {
      "cell_type": "markdown",
      "metadata": {
        "id": "PKdV5XlRYCZB"
      },
      "source": [
        "2. Calcular la edad de una persona"
      ]
    },
    {
      "cell_type": "code",
      "metadata": {
        "colab": {
          "base_uri": "https://localhost:8080/"
        },
        "id": "MbYWxHBZX1PA",
        "outputId": "f5229d7a-ea9f-40f7-88fc-9b3c17021082"
      },
      "source": [
        "def resta(num1, num2):\n",
        "  resp = num1 - num2\n",
        "  return resp\n",
        "num1 = float(input(\"Año actual: \"))\n",
        "num2 = float(input(\"Año de nacimiento: \"))\n",
        "resp = resta(num1,num2)\n",
        "print(\"Edad actual: \", resp)"
      ],
      "execution_count": null,
      "outputs": [
        {
          "name": "stdout",
          "output_type": "stream",
          "text": [
            "Año actual: 2021\n",
            "Año de nacimiento: 1973\n",
            "Edad actual:  48.0\n"
          ]
        }
      ]
    },
    {
      "cell_type": "markdown",
      "metadata": {
        "id": "RgH4EE-_YZIu"
      },
      "source": [
        "3. Obtener la nota final de ciclo"
      ]
    },
    {
      "cell_type": "code",
      "metadata": {
        "colab": {
          "base_uri": "https://localhost:8080/"
        },
        "id": "9zXozXA-Ybgm",
        "outputId": "2d41ed0e-10d8-4ca1-dcae-2d390d911ec5"
      },
      "source": [
        "num1 = input(\"Lab1: \")\n",
        "num2 = input(\"Lab2: \")\n",
        "num3 = input(\"Examen: \")\n",
        "resp = float(num1) + float(num2) + float(num3)\n",
        "\n",
        "print(resp)\n",
        "num4 = input(\"entre: \")\n",
        "resp2 = float(resp) / float(num4)\n",
        "print(\"El resultado final es: \", resp2)"
      ],
      "execution_count": null,
      "outputs": [
        {
          "name": "stdout",
          "output_type": "stream",
          "text": [
            "Lab1: 8\n",
            "Lab2: 10\n",
            "Examen: 10\n",
            "28.0\n",
            "entre: 3\n",
            "El resultado final es:  9.333333333333334\n"
          ]
        }
      ]
    },
    {
      "cell_type": "markdown",
      "metadata": {
        "id": "I1qVbzM1fCBs"
      },
      "source": [
        "1. Convertir de Celsius de Fahrenheit usando lambda\n"
      ]
    },
    {
      "cell_type": "code",
      "metadata": {
        "id": "ObHCEnq-fJnD"
      },
      "source": [
        "conversion = lambda C = (C * 9/5) + 32 \n",
        "C = float(input(\"Celsius: \"))\n",
        "print(\"Grados C: \", C, \" a F: \", conversion(C))"
      ],
      "execution_count": null,
      "outputs": []
    },
    {
      "cell_type": "markdown",
      "metadata": {
        "id": "R2LYVwtXB_wX"
      },
      "source": [
        "2. Calcular la edad de una persona usando lambda."
      ]
    },
    {
      "cell_type": "code",
      "metadata": {
        "colab": {
          "base_uri": "https://localhost:8080/"
        },
        "id": "r_q9fvTPCE10",
        "outputId": "c5f9c46c-690d-49c8-e578-610f6a0f64ec"
      },
      "source": [
        "resta = lambda num1,num2: num1-num2\n",
        "num1 = float(input(\"año actual: \"))\n",
        "num2 = float(input(\"año de nacimiento: \"))\n",
        "print(\"La edad de alguien del año \", num2, \" es: \", resta(num1,num2))"
      ],
      "execution_count": null,
      "outputs": [
        {
          "name": "stdout",
          "output_type": "stream",
          "text": [
            "año actual: 2020\n",
            "año de nacimiento: 1999\n",
            "La edad de alguien del año  1999.0  es:  21.0\n"
          ]
        }
      ]
    },
    {
      "cell_type": "markdown",
      "metadata": {
        "id": "0TRFNx5KErVl"
      },
      "source": [
        "3. Obtener la nota final de ciclo usando lambda\n",
        "\n"
      ]
    },
    {
      "cell_type": "code",
      "metadata": {
        "id": "tVMqgUKOEmi-"
      },
      "source": [
        "suma = lambda num1, num2, num3: num1 + num2 + num3\n",
        "num1 = float(input(\"Laboratorio 1: \"))\n",
        "num2 = float(input(\"Laboratorio 2: \"))\n",
        "num3 = float(input(\"Examen Final: \"))\n",
        "resp1 = num1+num2+num3\n",
        "print(\"el resultado de la suma: \", suma(num1,num2,num3), \"es: \", resp1)\n",
        "división = lambda num4: 3\n",
        "num4 = float(input(\"dividimos entre \"))\n",
        "resp = (resp1/num4)\n",
        "print(\"el resultado es: \", resp)"
      ],
      "execution_count": null,
      "outputs": []
    },
    {
      "cell_type": "code",
      "metadata": {
        "id": "YdtbpZ-eOaRa"
      },
      "source": [
        ""
      ],
      "execution_count": null,
      "outputs": []
    },
    {
      "cell_type": "markdown",
      "metadata": {
        "id": "xj6dXn0JB7sV"
      },
      "source": [
        "clcular sobre el sueldo las deducciones de ley isss (3%), afp"
      ]
    },
    {
      "cell_type": "code",
      "metadata": {
        "colab": {
          "background_save": true
        },
        "id": "XivI5w7xM6a4",
        "outputId": "d3e9e854-da14-429f-8ce6-eb1ac30519f6"
      },
      "source": [
        "sueldo = float(input(\"sueldo: \"))\n",
        "isss = sueldo*0.03\n",
        "afp = sueldo*0.0625\n",
        "SueldoNeto = sueldo - (isss + afp)\n",
        "\n",
        "tablaIsr= [\n",
        "           [0.01, 472.0, 0, 0]\n",
        "           [472.01, 895.24, ]\n",
        "]"
      ],
      "execution_count": null,
      "outputs": [
        {
          "name": "stdout",
          "output_type": "stream",
          "text": [
            "800.0 deducciones:  824.0625 sueldo neto:  -24.0625\n"
          ]
        }
      ]
    },
    {
      "cell_type": "markdown",
      "metadata": {
        "id": "5GYsYb6yWBeT"
      },
      "source": [
        "Conversores:\n",
        "1. monedas\n",
        "dolar\n",
        "euro\n",
        "lempira\n",
        "cordoba\n",
        "quetzal\n",
        "colón\n",
        "pesos CR"
      ]
    },
    {
      "cell_type": "code",
      "metadata": {
        "colab": {
          "base_uri": "https://localhost:8080/"
        },
        "id": "5rfEVevgWBAc",
        "outputId": "938ed379-10e4-479a-d7e0-6bd4b7498b98"
      },
      "source": [
        "valores = [\n",
        "           [],\n",
        "           [1, 0.85, 23.8, 35.11, 7.64, 8.75, 621.61], #monedas\n",
        "           [],                                         #longitud\n",
        "]\n",
        "etiquetas = [\n",
        "          [],\n",
        "          [\"1. dolar\", \"2. euro\" \"3. lempira\", \"4. cordobas\", \"5. quetzal\", \"6. colón SV\", \"7. colón CR\"],\n",
        "          [],\n",
        "]\n",
        "\n",
        "def convertir(conversor, de, a, cantidad):\n",
        "  return valores[conversor][a]/valores[conversor][de] * cantidad\n",
        "\n",
        "print(\"***MENU***\")\n",
        "print(\"*1. Monedas*\")\n",
        "print(\"*2. Longitud*\")\n",
        "print(\"*3. Masa*\")\n",
        "conversor = int(input(\"Conversor: \"))\n",
        "\n",
        "print( etiquetas[conversor] )\n",
        "\n",
        "\n",
        "de = int(input(\"DE: \"))\n",
        "a = int( input(\"A: \"))\n",
        "cantidad = float(input(\"Cant: \"))\n",
        "\n",
        "print(\"Respuesta: \", convertir(conversor, de, a, cantidad))\n"
      ],
      "execution_count": null,
      "outputs": [
        {
          "name": "stdout",
          "output_type": "stream",
          "text": [
            "***MENU***\n",
            "*1. Monedas*\n",
            "*2. Longitud*\n",
            "*3. Masa*\n",
            "Conversor: 1\n",
            "['1. dolar', '2. euro3. lempira', '4. cordobas', '5. quetzal', '6. colón SV', '7. colón CR']\n",
            "DE: 1\n",
            "A: 6\n",
            "Cant: 1\n",
            "Respuesta:  731.3058823529412\n"
          ]
        }
      ]
    },
    {
      "cell_type": "markdown",
      "metadata": {
        "id": "ZokrP1VkdJGj"
      },
      "source": [
        "Realizar un conversor propio, donde espesifique el valor de conversión:\n"
      ]
    },
    {
      "cell_type": "code",
      "metadata": {
        "id": "ufxeC4yGdIu6"
      },
      "source": [
        "Cajas = int(input(\"Ingrese la cantidad de Cajas a convertir en unidades: \"))\n",
        "Saco = int(input(\"Ingrese la cantidad de Saco a convertir en libras: \"))\n",
        "Fardo = int(input(\"Ingrese la cantidad de Fardo a convertir en unidades: \"))\n",
        "if Cajas<= 1:\n",
        "  print(\"25 Unidades\")\n",
        "elif Cajas<= 1.5:\n",
        "  print(\"30 Unidades\")\n",
        "  \n",
        "elif Cajas<2:\n",
        "  print(\"50 unidades\")\n",
        "elif Cajas<= 2/5:\n",
        "  print(\"55 Unidades\")\n",
        "elif Cajas<3:\n",
        "  print(\"75 unidades\")\n",
        "elif Cajas<=3.5:\n",
        "  print(\"80 unidades\")\n",
        "else:\n",
        "  print(\"Incorrecto\")"
      ],
      "execution_count": null,
      "outputs": []
    },
    {
      "cell_type": "markdown",
      "metadata": {
        "id": "jrVykH7wX9Vx"
      },
      "source": [
        "ENTRENANDO UNA RED NEURONAL PARA QUE APRENDA A LEER NUMEROS DEL 0 - 9\n",
        "\n"
      ]
    },
    {
      "cell_type": "code",
      "metadata": {
        "id": "ORrChLByjKCC"
      },
      "source": [
        "#IMPORAR LAS LIBRERIAS \n",
        "import tensorflow as tf\n",
        "import matplotlib.pyplot as plt\n",
        "import numpy as np\n",
        "import cv2\n",
        "import math\n",
        "import tensorflow_datasets as tfds"
      ],
      "execution_count": 34,
      "outputs": []
    },
    {
      "cell_type": "code",
      "metadata": {
        "colab": {
          "base_uri": "https://localhost:8080/"
        },
        "id": "zPCLSZnEYA6l",
        "outputId": "cfc32d14-94cb-4be1-bd06-d60ecc8e03b1"
      },
      "source": [
        "#cargamos nuestro dataset en variables\n",
        "dataset, metadata = tfds.load('fashion_mnist', as_supervised=True, with_info=True)\n",
        "datos_entrenamiento, datos_prueba = dataset[\"train\"], dataset[\"test\"]\n",
        "print(datos_entrenamiento)"
      ],
      "execution_count": 35,
      "outputs": [
        {
          "output_type": "stream",
          "name": "stdout",
          "text": [
            "<PrefetchDataset shapes: ((28, 28, 1), ()), types: (tf.uint8, tf.int64)>\n"
          ]
        }
      ]
    },
    {
      "cell_type": "code",
      "metadata": {
        "id": "7nMP5UaRYMQM"
      },
      "source": [
        "\n",
        "numeros_letras = [\"Camiseta\", \"Pantalón\", \"Sueter\", \"Vestido\", \"Abrigo\", \"Sandalia\", \"Camisa\", \"Zapatilla\", \"Bolso\", \"Botín\"]"
      ],
      "execution_count": 36,
      "outputs": []
    },
    {
      "cell_type": "code",
      "metadata": {
        "colab": {
          "base_uri": "https://localhost:8080/"
        },
        "id": "OQy59zHcYQeo",
        "outputId": "ddef2812-d6dc-41f0-e730-86faa2858ab6"
      },
      "source": [
        "#pasar en variables los datos de entrenamiento y prueba\n",
        "numeros_ejemplo_entrenamiento = metadata.splits[\"train\"].num_examples\n",
        "numeros_ejemplo_prueba = metadata.splits[\"test\"].num_examples\n",
        "print(numeros_ejemplo_entrenamiento, numeros_ejemplo_prueba)"
      ],
      "execution_count": 37,
      "outputs": [
        {
          "output_type": "stream",
          "name": "stdout",
          "text": [
            "60000 10000\n"
          ]
        }
      ]
    },
    {
      "cell_type": "code",
      "metadata": {
        "id": "v-F13rRIYWtI"
      },
      "source": [
        "#funcion normalizadora de los pixeles de 0 - 255 que sean de 0 - 1\n",
        "def normalizacion(images, labels):\n",
        "  images = tf.cast(images, tf.float32)\n",
        "  images /= 255 # 150/255=0.588\n",
        "  return images, labels"
      ],
      "execution_count": 38,
      "outputs": []
    },
    {
      "cell_type": "code",
      "metadata": {
        "id": "H4ppk8LXYa9C"
      },
      "source": [
        "#llamamoas la funcion normalizadora en ambos dataset\n",
        "datos_entrenamiento = datos_entrenamiento.map(normalizacion)\n",
        "datos_prueba = datos_prueba.map(normalizacion)"
      ],
      "execution_count": 39,
      "outputs": []
    },
    {
      "cell_type": "code",
      "metadata": {
        "id": "pMM-su78Yg0T"
      },
      "source": [
        "#estruturamos nuestra red neuronal\n",
        "modelo = tf.keras.Sequential([\n",
        "        tf.keras.layers.Flatten(input_shape=(28,28,1)), #capa de entreda de 28*28 = 784 neuronas una para cada pixel\n",
        "        tf.keras.layers.Dense(64, activation=tf.nn.relu), #capa oculta con 64 neuronas, funcion de activacion relu\n",
        "        tf.keras.layers.Dense(64, activation=tf.nn.relu), #capa oculta con 64 neuronas, funcion de activacion relu\n",
        "        tf.keras.layers.Dense(10, activation=tf.nn.softmax) #capa de salida con 10 neuronas una para cada numero, \n",
        "        #funcion de activacion softmax. esta funcion es requerida para clasificacion\n",
        "])"
      ],
      "execution_count": 40,
      "outputs": []
    },
    {
      "cell_type": "code",
      "metadata": {
        "id": "GbmzSPNPYkQM"
      },
      "source": [
        "#Compilamos el modelo de red neuronal e indicamos las funciones a utilizar \n",
        "modelo.compile(\n",
        "    optimizer=\"adam\",\n",
        "    loss=\"sparse_categorical_crossentropy\",\n",
        "    metrics=['accuracy']\n",
        ")"
      ],
      "execution_count": 41,
      "outputs": []
    },
    {
      "cell_type": "code",
      "metadata": {
        "id": "HNHlr1-VYpCV"
      },
      "source": [
        "#Entrenamiento por lotes\n",
        "batchsize = 32\n",
        "datos_entrenamiento = datos_entrenamiento.repeat().shuffle(numeros_ejemplo_entrenamiento).batch(batchsize)\n",
        "datos_prueba = datos_prueba.repeat().shuffle(numeros_ejemplo_prueba).batch(batchsize)"
      ],
      "execution_count": 42,
      "outputs": []
    },
    {
      "cell_type": "code",
      "metadata": {
        "colab": {
          "base_uri": "https://localhost:8080/"
        },
        "id": "jny_VrrFYtHw",
        "outputId": "0b91a391-119f-4afc-b681-637843251272"
      },
      "source": [
        "#entrenado nuetro modelo de datos\n",
        "modelo.fit(datos_entrenamiento, epochs=5, \n",
        "           steps_per_epoch=math.ceil(numeros_ejemplo_entrenamiento/batchsize))"
      ],
      "execution_count": 43,
      "outputs": [
        {
          "output_type": "stream",
          "name": "stdout",
          "text": [
            "Epoch 1/5\n",
            "1875/1875 [==============================] - 14s 4ms/step - loss: 0.5081 - accuracy: 0.8191\n",
            "Epoch 2/5\n",
            "1875/1875 [==============================] - 7s 4ms/step - loss: 0.3774 - accuracy: 0.8633\n",
            "Epoch 3/5\n",
            "1875/1875 [==============================] - 7s 4ms/step - loss: 0.3389 - accuracy: 0.8757\n",
            "Epoch 4/5\n",
            "1875/1875 [==============================] - 7s 4ms/step - loss: 0.3195 - accuracy: 0.8823\n",
            "Epoch 5/5\n",
            "1875/1875 [==============================] - 7s 4ms/step - loss: 0.3009 - accuracy: 0.8885\n"
          ]
        },
        {
          "output_type": "execute_result",
          "data": {
            "text/plain": [
              "<keras.callbacks.History at 0x7fab77042950>"
            ]
          },
          "metadata": {},
          "execution_count": 43
        }
      ]
    },
    {
      "cell_type": "code",
      "metadata": {
        "colab": {
          "base_uri": "https://localhost:8080/"
        },
        "id": "c052_SfkZAHs",
        "outputId": "000877e1-55ec-46d4-ebb2-92f76fc1de64"
      },
      "source": [
        "#evaluar el modelo con los datos de prueba\n",
        "test_loss, test_accuracy = modelo.evaluate(datos_prueba, steps=math.ceil(numeros_ejemplo_prueba/batchsize))\n",
        "print(\"Resultado de las pruebas\", test_loss, test_accuracy)"
      ],
      "execution_count": 44,
      "outputs": [
        {
          "output_type": "stream",
          "name": "stdout",
          "text": [
            "313/313 [==============================] - 2s 3ms/step - loss: 0.3545 - accuracy: 0.8744\n",
            "Resultado de las pruebas 0.354511022567749 0.8744009733200073\n"
          ]
        }
      ]
    },
    {
      "cell_type": "code",
      "metadata": {
        "id": "3WMwZXo9ZFv8"
      },
      "source": [
        "\n",
        "#graficar la salida para evaluar los resultados\n",
        "def graficar_imagen(i, predictions_array, true_labels, images):\n",
        "  predictions_array, true_labels, img = predictions_array[i], true_labels[i], images[i]\n",
        "  plt.grid(False)\n",
        "  #plt.xticks([])\n",
        "  #plt.yticks([])\n",
        "  plt.imshow(img[...,0], cmap=plt.cm.binary)\n",
        "\n",
        "  predicted_label = np.argmax(predictions_array)\n",
        "  if predicted_label==true_labels:\n",
        "    color = \"green\"\n",
        "  else:\n",
        "    color = \"red\"\n",
        "  plt.xlabel(\"Prediccion: {}\".format(numeros_letras[predicted_label]), color=color)"
      ],
      "execution_count": 46,
      "outputs": []
    },
    {
      "cell_type": "code",
      "metadata": {
        "colab": {
          "base_uri": "https://localhost:8080/",
          "height": 313
        },
        "id": "Q_35lq4evNH0",
        "outputId": "16863cc7-bf56-4ef8-e188-156f9b2cfa99"
      },
      "source": [
        "#convertimos los tensores o imagenes en matrices numpy\n",
        "for imagen_prueba, etiqueta_prueba in datos_prueba.take(1):\n",
        "  imagen_prueba = imagen_prueba.numpy()\n",
        "  etiqueta_prueba = etiqueta_prueba.numpy()\n",
        "  predicciones = modelo.predict(imagen_prueba)\n",
        "\n",
        "i = 0\n",
        "for miImagen, etiqueta in datos_entrenamiento.take(1):\n",
        "  etiqueta = etiqueta.numpy()\n",
        "  imagen = miImagen[i].numpy().reshape(1,28,28,1)\n",
        "  prediccion = modelo.predict(imagen, batch_size=1)\n",
        "\n",
        "valor_predicho = np.argmax(prediccion)  \n",
        "print( valor_predicho, etiqueta[i] ) \n",
        "\n",
        "index = 0\n",
        "img = imagen #imagen_prueba[index]\n",
        "plt.grid(False)\n",
        "plt.imshow(img[0,...,0], cmap=plt.cm.binary)\n",
        "#label = etiqueta_prueba[index]\n",
        "plt.xlabel(\"Prediccion: {}\".format(numeros_letras[valor_predicho]), color=\"green\")"
      ],
      "execution_count": 49,
      "outputs": [
        {
          "output_type": "stream",
          "name": "stdout",
          "text": [
            "4 4\n"
          ]
        },
        {
          "output_type": "execute_result",
          "data": {
            "text/plain": [
              "Text(0.5, 0, 'Prediccion: Abrigo')"
            ]
          },
          "metadata": {},
          "execution_count": 49
        },
        {
          "output_type": "display_data",
          "data": {
            "image/png": "[encoded data removed]",
            "text/plain": [
              "<Figure size 432x288 with 1 Axes>"
            ]
          },
          "metadata": {
            "needs_background": "light"
          }
        }
      ]
    },
    {
      "cell_type": "code",
      "metadata": {
        "id": "l73GU0-MZWeS"
      },
      "source": [
        "#Graficamos los valores de las matriz una para las imagenes y otra para las graficas de barra segun el acierto\n",
        "def graficar_valores_matriz(i, matriz_prediccion, etiqueta_verdadera):\n",
        "  matriz_prediccion, etiqueta_verdadera = matriz_prediccion[i], etiqueta_verdadera[i]\n",
        "  plt.grid(False)\n",
        "  #plt.xticks([])\n",
        "  #plt.yticks([])\n",
        "  thisplot = plt.bar(range(10), matriz_prediccion, color=\"#888888\")\n",
        "  plt.ylim([0,1])\n",
        "  etiqueta_prediccion = np.argmax(matriz_prediccion)\n",
        "\n",
        "  thisplot[etiqueta_prediccion].set_color(\"red\")\n",
        "  thisplot[etiqueta_verdadera].set_color(\"green\")"
      ],
      "execution_count": 48,
      "outputs": []
    },
    {
      "cell_type": "code",
      "metadata": {
        "colab": {
          "base_uri": "https://localhost:8080/",
          "height": 860
        },
        "id": "W3xPEnj-Zfx0",
        "outputId": "d79be693-bcb9-4367-99b9-627b83a5803f"
      },
      "source": [
        "#recorrer las imagenes a graficar\n",
        "numfilas = 5\n",
        "numcols = 5\n",
        "numimgs = numfilas*numcols\n",
        "\n",
        "plt.figure(figsize=(2*2*numcols, 2*numfilas))\n",
        "for i in range(numimgs):\n",
        "  plt.subplot(numfilas, 2*numcols, 2*i+1)\n",
        "  graficar_imagen(i, predicciones, etiqueta_prueba, imagen_prueba)\n",
        "\n",
        "  plt.subplot(numfilas, 2*numcols, 2*i+2)\n",
        "  graficar_valores_matriz(i, predicciones, etiqueta_prueba)\n",
        "  \n",
        "\n",
        "plt.show()\n",
        "\n",
        "\n",
        "imagen = cv2.imread(\"/content/image (8).jpg\")\n",
        "plt.imshow(imagen)\n",
        "plt.show()\n"
      ],
      "execution_count": 54,
      "outputs": [
        {
          "output_type": "display_data",
          "data": {
            "image/png": "[encoded data removed]",
            "text/plain": [
              "<Figure size 1440x720 with 50 Axes>"
            ]
          },
          "metadata": {
            "needs_background": "light"
          }
        },
        {
          "output_type": "display_data",
          "data": {
            "image/png": "[encoded data removed]",
            "text/plain": [
              "<Figure size 432x288 with 1 Axes>"
            ]
          },
          "metadata": {
            "needs_background": "light"
          }
        }
      ]
    }
  ]
}